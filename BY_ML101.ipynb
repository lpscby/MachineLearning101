{
  "nbformat": 4,
  "nbformat_minor": 0,
  "metadata": {
    "colab": {
      "name": "BY-ML101.ipynb",
      "provenance": [],
      "collapsed_sections": [],
      "authorship_tag": "ABX9TyNJXwphmn3wNDgSRzVDqkoF",
      "include_colab_link": true
    },
    "kernelspec": {
      "name": "python3",
      "display_name": "Python 3"
    },
    "language_info": {
      "name": "python"
    }
  },
  "cells": [
    {
      "cell_type": "markdown",
      "metadata": {
        "id": "view-in-github",
        "colab_type": "text"
      },
      "source": [
        "<a href=\"https://colab.research.google.com/github/lpscby/MachineLearning101/blob/google_colab_receive/BY_ML101.ipynb\" target=\"_parent\"><img src=\"https://colab.research.google.com/assets/colab-badge.svg\" alt=\"Open In Colab\"/></a>"
      ]
    },
    {
      "cell_type": "markdown",
      "metadata": {
        "id": "uGx_9Fp3ZO8U"
      },
      "source": [
        "# 第一课: Tech with Tim - Linear Regression\n",
        "课程内容:使用UCL的[Student Performance数据集](https://archive.ics.uci.edu/ml/datasets/Student+Performance)，使用线性回归模型进行拟合和分数预测,并检查预测效果。"
      ]
    },
    {
      "cell_type": "markdown",
      "metadata": {
        "id": "XxUKKBcxJdTi"
      },
      "source": [
        "首先,上传本地文档(代码对话框方式，也可直接使用网页操作上传)\n",
        "\n",
        "注意每次重新连接Google Colab时，都需重新上传文件。"
      ]
    },
    {
      "cell_type": "code",
      "metadata": {
        "id": "gKp0v9AwZETF"
      },
      "source": [
        "#上传本地文档\n",
        "from google.colab import files\n",
        "\n",
        "uploaded = files.upload()"
      ],
      "execution_count": null,
      "outputs": []
    },
    {
      "cell_type": "markdown",
      "metadata": {
        "id": "N5jSYP8jJtNq"
      },
      "source": [
        "第一步,从文件中读取数据,检查是否正确取出各项参数，熟悉pandas dataframe的操作方法。"
      ]
    },
    {
      "cell_type": "code",
      "metadata": {
        "id": "MXKik5WMaKee"
      },
      "source": [
        "#读取CSV文档信息,并做检查,熟悉data操作方法\n",
        "import pandas as pd\n",
        "import numpy as np\n",
        "import sklearn\n",
        "from sklearn import linear_model\n",
        "from sklearn.utils import shuffle\n",
        "import matplotlib.pyplot as plt\n",
        "from matplotlib import style\n",
        "import pickle\n",
        "\n",
        "style.use(\"ggplot\")\n",
        "\n",
        "data = pd.read_csv(\"/content/student-mat-comma.csv\", sep = \",\")\n",
        "\n",
        "#print('Watch the data type: ', type(data))\n",
        "#此时data数据类型是pandas.DataFrame\n",
        "#print('Watch the data head: ', '\\n', data.head())\n",
        "#print(data.columns)\n",
        "#print(data.index)"
      ],
      "execution_count": null,
      "outputs": []
    },
    {
      "cell_type": "markdown",
      "metadata": {
        "id": "9EPRp8PRKBMv"
      },
      "source": [
        "由于使用的是线性回归数学模型进行拟合，因此这里切分出来使用的参数都是数据。\n",
        "除了Tim选择的G1, G2, G3, studytime, failures, absences以外,也可以考虑选择:age, Medu, Fedu, traveltime, famrel, freetime, goout, Dalc, Walc, health."
      ]
    },
    {
      "cell_type": "code",
      "metadata": {
        "id": "F3LFHIFnbWVy"
      },
      "source": [
        "#对data进行切分,便于下一步输入模型进行拟合\n",
        "\n",
        "data = data[[\"G1\", \"G2\", \"G3\", \"studytime\", \"failures\", \"absences\", \"freetime\", \"goout\"]]\n",
        "data = shuffle(data)\n",
        "\n",
        "print(data.head())"
      ],
      "execution_count": null,
      "outputs": []
    },
    {
      "cell_type": "markdown",
      "metadata": {
        "id": "v8Yc8Vfv2mNW"
      },
      "source": [
        "对抽取好的数据进行Label,选出需要预测的Label，并用sklearn的train_test_split函数进行数据集划分。"
      ]
    },
    {
      "cell_type": "code",
      "metadata": {
        "id": "zfZWNhDdJcHK"
      },
      "source": [
        "predict = \"G3\"\n",
        "\n",
        "x = np.array(data.drop([predict], 1))\n",
        "#print(type(x))\n",
        "#此时x的数据类型是numpy.ndarray\n",
        "\n",
        "y = np.array(data[predict])\n",
        "\n",
        "x_train, x_test, y_train, y_test = sklearn.model_selection.train_test_split(x, y, test_size = 0.1)\n",
        "#print(x_train)\n",
        "\n"
      ],
      "execution_count": null,
      "outputs": []
    },
    {
      "cell_type": "markdown",
      "metadata": {
        "id": "51fk1MMI21a0"
      },
      "source": [
        "利用linear regression模型进行学习和预测.为了找到更好的模型,循环训练20次,将最好的一次记入pickle(对Google Colab不适用,因为pickle文件会被清理掉).\n",
        "\n",
        "*pickle提供了一个简单的持久化功能。可以将对象以文件的形式存放在磁盘上。\n",
        "\n",
        "pickle模块只能在python中使用，python中几乎所有的数据类型（列表，字典，集合，类等）都可以用pickle来序列化，pickle序列化后的数据，可读性差，人一般无法识别。\n",
        "\n",
        "pickle.dump(obj, file[, protocol])\n",
        "　　序列化对象，并将结果数据流写入到文件对象中。参数protocol是序列化模式，默认值为0，表示以文本的形式序列化。protocol的值还可以是1或2，表示以二进制的形式序列化。\n",
        "\n",
        "pickle.load(file)\n",
        "　　反序列化对象。将文件中的数据解析为一个Python对象。"
      ]
    },
    {
      "cell_type": "code",
      "metadata": {
        "id": "efji7gee27Co"
      },
      "source": [
        "best = 0\n",
        "for _ in range(20):\n",
        "  x_train, x_test, y_train, y_test = sklearn.model_selection.train_test_split(x, y, test_size = 0.1)\n",
        "  linear = linear_model.LinearRegression()\n",
        "  \n",
        "  linear.fit(x_train, y_train)\n",
        "  acc = linear.score(x_test, y_test)\n",
        "  print('The test predict accuracy score is: ', acc)\n",
        "  if acc > best:\n",
        "    best = acc\n",
        "    with open(\"studentgrades.pickle\", \"wb\") as f:\n",
        "      pickle.dump(linear, f)\n",
        "\n",
        "pickle_in = open(\"studentgrades.pickle\", \"rb\")\n",
        "linear = pickle.load(pickle_in)\n",
        "#print('Coefficient: \\n', linear.coef_)\n",
        "#print('Intercept: \\n', linear.intercept_)\n",
        "print(\"The highest predict accuracy score is: %f\" % best)\n",
        "\n",
        "predictions = linear.predict(x_test)\n",
        "\n",
        "for i in range(len(predictions)):\n",
        "  print(predictions[i], x_test[i], y_test[i])\n"
      ],
      "execution_count": null,
      "outputs": []
    },
    {
      "cell_type": "markdown",
      "metadata": {
        "id": "2MBk_2WBgXyR"
      },
      "source": [
        "画图"
      ]
    },
    {
      "cell_type": "code",
      "metadata": {
        "id": "S27uYr7_gbSk"
      },
      "source": [
        "plot = \"health\"\n",
        "plt.scatter(data[plot], data[\"G3\"])\n",
        "plt.legend(loc=4)\n",
        "plt.xlabel(plot)\n",
        "plt.ylabel(\"Final Grade\")\n",
        "plt.show()"
      ],
      "execution_count": null,
      "outputs": []
    },
    {
      "cell_type": "markdown",
      "metadata": {
        "id": "eup4xNedlUbk"
      },
      "source": [
        "# 第二课: Tech with Tim - KNN\n",
        "\n",
        "课程内容: 使用UCL的[Car Data数据集](https://archive.ics.uci.edu/ml/datasets/Car+Evaluation)，使用KNN(K Nearest Neighbour)模型进行拟合和预测,并检查预测效果。"
      ]
    },
    {
      "cell_type": "markdown",
      "metadata": {
        "id": "4WYjN1mgl0JJ"
      },
      "source": [
        "首先进行数据整理。"
      ]
    },
    {
      "cell_type": "code",
      "metadata": {
        "id": "uy-EIxpNl4cZ"
      },
      "source": [
        "import sklearn\n",
        "from sklearn.utils import shuffle\n",
        "from sklearn.neighbors import KNeighborsClassifier\n",
        "import pandas as pd\n",
        "import numpy as np\n",
        "from sklearn import linear_model, preprocessing\n",
        "\n",
        "data = pd.read_csv(\"car.data\")\n",
        "#print(data.head())"
      ],
      "execution_count": 1,
      "outputs": []
    },
    {
      "cell_type": "markdown",
      "metadata": {
        "id": "EJGQE9YYpPCV"
      },
      "source": [
        "由于car data文件中有很多文字性信息，因此利用preprocessing这个方法将文字信息转换为整数。"
      ]
    },
    {
      "cell_type": "code",
      "metadata": {
        "id": "qNgxXoZZtPCt"
      },
      "source": [
        "le = preprocessing.LabelEncoder() # preprocessing.LabelEncoder是一个对象\n",
        "\n",
        "buying = le.fit_transform(list(data[\"buying\"])) #le还是一个空对象，将buying这一列转换为list，再赋给le对象进行转换\n",
        "maint = le.fit_transform(list(data[\"maint\"]))\n",
        "door = le.fit_transform(list(data[\"door\"]))\n",
        "persons = le.fit_transform(list(data[\"persons\"]))\n",
        "lug_boot = le.fit_transform(list(data[\"lug_boot\"]))\n",
        "safety = le.fit_transform(list(data[\"safety\"]))\n",
        "cls = le.fit_transform(list(data[\"class\"]))\n",
        "\n",
        "predict = \"class\"\n",
        "\n",
        "X = list(zip(buying, maint, door, persons, lug_boot, safety))\n",
        "y = list(cls)\n",
        "\n",
        "x_train, x_test, y_train, y_test = sklearn.model_selection.train_test_split(X, y, test_size = 0.1)\n",
        "\n",
        "#print(x_train, y_test)"
      ],
      "execution_count": 2,
      "outputs": []
    },
    {
      "cell_type": "markdown",
      "metadata": {
        "id": "du3q_D6ZMV8d"
      },
      "source": [
        "然后可以按照Linear Regression同样的方法，构建KNN的模型，用训练数据集训练模型，然后给出预测并进行验证。\n",
        "\n",
        "对KNN模型的构建参数以及方法的详细说明可以见[KNN模型的说明文档。](https://scikit-learn.org/stable/modules/generated/sklearn.neighbors.KNeighborsClassifier.html)"
      ]
    },
    {
      "cell_type": "code",
      "metadata": {
        "id": "Y-_Oo-f2M0uY"
      },
      "source": [
        "model = KNeighborsClassifier(n_neighbors = 9)\n",
        "model.fit(x_train, y_train)\n",
        "acc = model.score(x_test, y_test)\n",
        "print(acc)\n",
        "\n",
        "predicted = model.predict(x_test)\n",
        "names = [\"unacc\", \"acc\", \"good\", \"vgood\"]\n",
        "\n",
        "for num in range(len(predicted)):\n",
        "  print('Predicted: %s; Actual: %s.' % (names[predicted[num]], names[y_test[num]]))"
      ],
      "execution_count": null,
      "outputs": []
    },
    {
      "cell_type": "markdown",
      "metadata": {
        "id": "7OFCF0tcQiGs"
      },
      "source": [
        "# 第三课 Tech with Tim - SVM\n",
        "\n",
        "与Linear Regresstion和KNN示例中不一样，这一次SVM模型的例子中将用到SKLearn中自带的数据集。这些数据集中已经进行了分类，同时自带可以调用的方法，方便检查和处理数据。\n",
        "\n",
        "具体而言，此次用到的是breast_cancer数据集。既然没有单独的csv文件供事先检查数据的features和labels，那么就需要利用SKLearn数据集中自带的methods来动态检查。"
      ]
    },
    {
      "cell_type": "code",
      "metadata": {
        "colab": {
          "base_uri": "https://localhost:8080/"
        },
        "id": "Pit4jxleR3xY",
        "outputId": "c08d2f5c-c192-4bc6-d5a0-fc29119209af"
      },
      "source": [
        "import sklearn\n",
        "from sklearn import svm\n",
        "from sklearn import datasets\n",
        "from sklearn import metrics\n",
        "\n",
        "cancer = datasets.load_breast_cancer()\n",
        "print(\"Features: \", cancer.feature_names)\n",
        "print(\"Labels: \", cancer.target_names)"
      ],
      "execution_count": 12,
      "outputs": [
        {
          "output_type": "stream",
          "name": "stdout",
          "text": [
            "Features:  ['mean radius' 'mean texture' 'mean perimeter' 'mean area'\n",
            " 'mean smoothness' 'mean compactness' 'mean concavity'\n",
            " 'mean concave points' 'mean symmetry' 'mean fractal dimension'\n",
            " 'radius error' 'texture error' 'perimeter error' 'area error'\n",
            " 'smoothness error' 'compactness error' 'concavity error'\n",
            " 'concave points error' 'symmetry error' 'fractal dimension error'\n",
            " 'worst radius' 'worst texture' 'worst perimeter' 'worst area'\n",
            " 'worst smoothness' 'worst compactness' 'worst concavity'\n",
            " 'worst concave points' 'worst symmetry' 'worst fractal dimension']\n",
            "Labels:  ['malignant' 'benign']\n"
          ]
        }
      ]
    },
    {
      "cell_type": "markdown",
      "metadata": {
        "id": "0qVFPTUfTQFO"
      },
      "source": [
        "接下来可以按照一般流程进行数据处理了。"
      ]
    },
    {
      "cell_type": "code",
      "metadata": {
        "id": "D5KvfGUYTTlz"
      },
      "source": [
        "X = cancer.data #这个方法是导出所有features\n",
        "y = cancer.target #这个方法是导出所有labels\n",
        "\n",
        "x_train, x_test, y_train, y_test = sklearn.model_selection.train_test_split(X, y, test_size = 0.2)"
      ],
      "execution_count": 13,
      "outputs": []
    },
    {
      "cell_type": "markdown",
      "metadata": {
        "id": "HonmPqAZT26B"
      },
      "source": [
        "处理好训练集和预测集数据以后，开始构建模型、训练模型、输出预测并检验结果。\n",
        "\n",
        "[SVM的官方说明文档](https://scikit-learn.org/stable/modules/classes.html#module-sklearn.svm)"
      ]
    },
    {
      "cell_type": "code",
      "metadata": {
        "colab": {
          "base_uri": "https://localhost:8080/"
        },
        "id": "xzAg_FDgT-UM",
        "outputId": "2db85c2b-0548-4e93-ccd4-2cfde7c018c6"
      },
      "source": [
        "clf = svm.SVC() #在这一步注意选择kernel和正则化参数\n",
        "clf.fit(x_train, y_train)\n",
        "\n",
        "y_pred = clf.predict(x_test)\n",
        "acc = metrics.accuracy_score(y_test, y_pred)\n",
        "print(acc)"
      ],
      "execution_count": 16,
      "outputs": [
        {
          "output_type": "stream",
          "name": "stdout",
          "text": [
            "0.9649122807017544\n"
          ]
        }
      ]
    }
  ]
}