{
  "nbformat": 4,
  "nbformat_minor": 0,
  "metadata": {
    "colab": {
      "name": "“BY-ML101.ipynb”的副本",
      "provenance": [],
      "collapsed_sections": [],
      "authorship_tag": "ABX9TyO+t2LXnGERdo2HOkp09JrT",
      "include_colab_link": true
    },
    "kernelspec": {
      "name": "python3",
      "display_name": "Python 3"
    },
    "language_info": {
      "name": "python"
    }
  },
  "cells": [
    {
      "cell_type": "markdown",
      "metadata": {
        "id": "view-in-github",
        "colab_type": "text"
      },
      "source": [
        "<a href=\"https://colab.research.google.com/github/lpscby/MachineLearning101/blob/lpscby-patch-1/BY_ML101_ipynb.ipynb\" target=\"_parent\"><img src=\"https://colab.research.google.com/assets/colab-badge.svg\" alt=\"Open In Colab\"/></a>"
      ]
    },
    {
      "cell_type": "markdown",
      "metadata": {
        "id": "uGx_9Fp3ZO8U"
      },
      "source": [
        "# 第一课: Tech with Tim - Linear Regression\n",
        "课程内容:使用UCL的[Student Performance数据集](https://archive.ics.uci.edu/ml/datasets/Student+Performance),使用线性回归模型进行拟合和分数预测,并检查预测效果."
      ]
    },
    {
      "cell_type": "markdown",
      "metadata": {
        "id": "XxUKKBcxJdTi"
      },
      "source": [
        "首先,上传本地文档(代码对话框方式,也可直接使用网页操作上传)\n",
        "\n",
        "注意每次重新连接Google Colab时,都需重新上传文件."
      ]
    },
    {
      "cell_type": "code",
      "metadata": {
        "id": "gKp0v9AwZETF"
      },
      "source": [
        "#上传本地文档\n",
        "from google.colab import files\n",
        "\n",
        "uploaded = files.upload()"
      ],
      "execution_count": null,
      "outputs": []
    },
    {
      "cell_type": "markdown",
      "metadata": {
        "id": "N5jSYP8jJtNq"
      },
      "source": [
        "第一步,从文件中读取数据,检查是否正确取出各项参数,熟悉pandas dataframe的操作方法."
      ]
    },
    {
      "cell_type": "code",
      "metadata": {
        "id": "MXKik5WMaKee"
      },
      "source": [
        "#读取CSV文档信息,并做检查,熟悉data操作方法\n",
        "import pandas as pd\n",
        "import numpy as np\n",
        "import sklearn\n",
        "from sklearn import linear_model\n",
        "from sklearn.utils import shuffle\n",
        "\n",
        "data = pd.read_csv(\"/content/student-mat-comma.csv\", sep = \",\")\n",
        "\n",
        "#print('Watch the data type: ', type(data))\n",
        "#此时data数据类型是pandas.DataFrame\n",
        "#print('Watch the data head: ', '\\n', data.head())\n",
        "#print(data.columns)\n",
        "#print(data.index)"
      ],
      "execution_count": 1,
      "outputs": []
    },
    {
      "cell_type": "markdown",
      "metadata": {
        "id": "9EPRp8PRKBMv"
      },
      "source": [
        "由于使用的是线性回归数学模型进行拟合,因此这里切分出来使用的参数都是数据.\n",
        "除了Tim选择的G1, G2, G3, studytime, failures, absences以外,也可以考虑选择:age, Medu, Fedu, traveltime, famrel, freetime, goout, Dalc, Walc, health."
      ]
    },
    {
      "cell_type": "code",
      "metadata": {
        "id": "F3LFHIFnbWVy",
        "colab": {
          "base_uri": "https://localhost:8080/"
        },
        "outputId": "1bdeea99-926d-4d81-cbd7-a618dcd16278"
      },
      "source": [
        "#对data进行切分,便于下一步输入模型进行拟合\n",
        "\n",
        "data = data[[\"G1\", \"G2\", \"G3\", \"studytime\", \"failures\", \"absences\"]]\n",
        "\n",
        "print(data.head())"
      ],
      "execution_count": 2,
      "outputs": [
        {
          "output_type": "stream",
          "text": [
            "   G1  G2  G3  studytime  failures  absences\n",
            "0   5   6   6          2         0         6\n",
            "1   5   5   6          2         0         4\n",
            "2   7   8  10          2         3        10\n",
            "3  15  14  15          3         0         2\n",
            "4   6  10  10          2         0         4\n"
          ],
          "name": "stdout"
        }
      ]
    },
    {
      "cell_type": "markdown",
      "metadata": {
        "id": "v8Yc8Vfv2mNW"
      },
      "source": [
        "对抽取好的数据进行Label,选出需要预测的Label,并用sklearn的train_test_split函数进行数据集划分."
      ]
    },
    {
      "cell_type": "code",
      "metadata": {
        "id": "zfZWNhDdJcHK"
      },
      "source": [
        "predict = \"G3\"\n",
        "\n",
        "x = np.array(data.drop([predict], 1))\n",
        "#print(type(x))\n",
        "#此时x的数据类型是numpy.ndarray\n",
        "\n",
        "y = np.array(data[predict])\n",
        "\n",
        "x_train, x_test, y_train, y_test = sklearn.model_selection.train_test_split(x, y, test_size = 0.1)\n",
        "print(x_train)\n",
        "\n"
      ],
      "execution_count": null,
      "outputs": []
    },
    {
      "cell_type": "markdown",
      "metadata": {
        "id": "51fk1MMI21a0"
      },
      "source": [
        "利用linear regression模型进行学习和预测"
      ]
    },
    {
      "cell_type": "code",
      "metadata": {
        "colab": {
          "base_uri": "https://localhost:8080/"
        },
        "id": "efji7gee27Co",
        "outputId": "457d693e-cc01-4f95-9a33-f339aed45ffe"
      },
      "source": [
        "linear = linear_model.LinearRegression()\n",
        "\n",
        "linear.fit(x_train, y_train)\n",
        "acc = linear.score(x_test, y_test)\n",
        "\n",
        "print('The predict accuracy score is: \\n', acc)\n",
        "print('Coefficient: \\n', linear.coef_)\n",
        "print('Intercept: \\n', linear.intercept_)\n",
        "\n",
        "predictions = linear.predict(x_test)\n",
        "\n",
        "for i in range(len(predictions)):\n",
        "  print(predictions[i], x_test[i], y_test[i])\n"
      ],
      "execution_count": 10,
      "outputs": [
        {
          "output_type": "stream",
          "text": [
            "The predict accuracy score is: \n",
            " 0.7348522430073967\n",
            "Coefficient: \n",
            " [ 0.13691416  0.98832914 -0.17143513 -0.19335224  0.03213412]\n",
            "Intercept: \n",
            " -1.4017498078356585\n",
            "11.447563419905002 [12 12  4  0  1] 12\n",
            "8.412316924544685 [10  9  3  0  2] 9\n",
            "14.008786166393328 [14 14  2  0  0] 14\n",
            "9.233984630201856 [ 8 10  2  0  0] 12\n",
            "11.38513450638931 [11 12  3  1  4] 11\n",
            "-0.37547843647018353 [10  0  2  0  0] 0\n",
            "15.134029468858648 [15 15  2  0  0] 15\n",
            "9.260955396221096 [ 9  9  1  0 22] 9\n",
            "5.415112175940766 [6 7 2 3 0] 0\n",
            "8.349340486719056 [ 9  9  2  2 11] 9\n",
            "9.48867073177442 [ 9 10  3  0  9] 9\n",
            "10.906884585327562 [13 11  2  0  0] 10\n",
            "18.47523840927696 [19 18  3  0  0] 19\n",
            "9.435167030822555 [ 9 10  2  0  2] 9\n",
            "9.405419760344602 [ 8 10  1  0  0] 11\n",
            "7.2189354542275215 [10  8  1  3  3] 7\n",
            "5.071107984126373 [6 6 2 0 2] 6\n",
            "7.120412188436314 [7 8 2 0 0] 0\n",
            "11.018665683730982 [11 11  2  0 12] 11\n",
            "8.412316924544685 [10  9  3  0  2] 10\n",
            "12.058271166516636 [12 12  1  0  4] 13\n",
            "7.937306197593793 [7 9 3 0 0] 8\n",
            "11.123445728168278 [12 11  2  0 11] 11\n",
            "8.189217417389987 [9 9 2 1 0] 0\n",
            "8.424373260678395 [9 9 1 2 8] 9\n",
            "7.08902234502855 [ 6  8  1  3 16] 8\n",
            "9.314460719855306 [10 10  2  1  0] 0\n",
            "5.327085885328909 [ 6  6  2  2 22] 4\n",
            "8.47787696163026 [ 9  9  2  2 15] 9\n",
            "-0.8081380324994711 [7 0 1 1 0] 0\n",
            "16.361665967511414 [18 16  3  0  0] 16\n",
            "11.950556749519558 [12 12  2  1 12] 13\n",
            "13.595656828648192 [12 14  3  0  1] 15\n",
            "-1.468670832183149 [5 0 1 3 0] 0\n",
            "13.788461541014998 [12 14  3  0  7] 14\n",
            "8.625116207530132 [ 7 10  4  1  2] 10\n",
            "16.396186934489066 [17 16  2  0  0] 16\n",
            "8.38256965406673 [9 9 2 0 0] 10\n",
            "11.035421060238766 [13 11  2  0  4] 11\n",
            "9.36252110511306 [ 8 10  2  0  4] 10\n"
          ],
          "name": "stdout"
        }
      ]
    }
  ]
}
