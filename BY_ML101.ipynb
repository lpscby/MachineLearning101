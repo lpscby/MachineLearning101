{
  "nbformat": 4,
  "nbformat_minor": 0,
  "metadata": {
    "colab": {
      "name": "BY-ML101.ipynb",
      "provenance": [],
      "authorship_tag": "ABX9TyNzP2ZvUOTKlSPSUsJEZEOY",
      "include_colab_link": true
    },
    "kernelspec": {
      "name": "python3",
      "display_name": "Python 3"
    },
    "language_info": {
      "name": "python"
    }
  },
  "cells": [
    {
      "cell_type": "markdown",
      "metadata": {
        "id": "view-in-github",
        "colab_type": "text"
      },
      "source": [
        "<a href=\"https://colab.research.google.com/github/lpscby/MachineLearning101/blob/main/BY_ML101.ipynb\" target=\"_parent\"><img src=\"https://colab.research.google.com/assets/colab-badge.svg\" alt=\"Open In Colab\"/></a>"
      ]
    },
    {
      "cell_type": "markdown",
      "metadata": {
        "id": "uGx_9Fp3ZO8U"
      },
      "source": [
        "# 第一课: Tech with Tim - Linear Regression\n",
        "课程内容:使用UCL的[Student Performance数据集](https://archive.ics.uci.edu/ml/datasets/Student+Performance),使用线性回归模型进行拟合和分数预测,并检查预测效果."
      ]
    },
    {
      "cell_type": "code",
      "metadata": {
        "id": "gKp0v9AwZETF"
      },
      "source": [
        "#上传本地文档\n",
        "from google.colab() import files\n",
        "\n",
        "uploaded = files.upload()"
      ],
      "execution_count": null,
      "outputs": []
    },
    {
      "cell_type": "code",
      "metadata": {
        "id": "MXKik5WMaKee"
      },
      "source": [
        "#读取CSV文档信息,并做检查,熟悉data操作方法\n",
        "import pandas as pd\n",
        "\n",
        "data = pd.read_csv('/content/student-mat-comma.csv')\n",
        "\n",
        "print('Watch the data type: ', type(data))\n",
        "print('Watch the data head: ', '\\n', data.head())"
      ],
      "execution_count": null,
      "outputs": []
    },
    {
      "cell_type": "code",
      "metadata": {
        "id": "F3LFHIFnbWVy"
      },
      "source": [
        "#对data进行切分,便于下一步输入模型进行拟合\n",
        "import numpy as np\n",
        "\n",
        "data = data[[\"G1\", \"G2\", \"G3\", \"studytime\", \"failures\", \"absences\"]]"
      ],
      "execution_count": null,
      "outputs": []
    }
  ]
}