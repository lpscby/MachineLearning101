{
  "nbformat": 4,
  "nbformat_minor": 0,
  "metadata": {
    "colab": {
      "name": "BY-ML101.ipynb",
      "provenance": [],
      "collapsed_sections": [],
      "authorship_tag": "ABX9TyNuf8Y7ENCi36HHD0ZuutOB",
      "include_colab_link": true
    },
    "kernelspec": {
      "name": "python3",
      "display_name": "Python 3"
    },
    "language_info": {
      "name": "python"
    }
  },
  "cells": [
    {
      "cell_type": "markdown",
      "metadata": {
        "id": "view-in-github",
        "colab_type": "text"
      },
      "source": [
        "<a href=\"https://colab.research.google.com/github/lpscby/MachineLearning101/blob/google_colab_receive/BY_ML101.ipynb\" target=\"_parent\"><img src=\"https://colab.research.google.com/assets/colab-badge.svg\" alt=\"Open In Colab\"/></a>"
      ]
    },
    {
      "cell_type": "markdown",
      "metadata": {
        "id": "uGx_9Fp3ZO8U"
      },
      "source": [
        "# 第一课: Tech with Tim - Linear Regression\n",
        "课程内容:使用UCL的[Student Performance数据集](https://archive.ics.uci.edu/ml/datasets/Student+Performance),使用线性回归模型进行拟合和分数预测,并检查预测效果."
      ]
    },
    {
      "cell_type": "markdown",
      "metadata": {
        "id": "XxUKKBcxJdTi"
      },
      "source": [
        "首先,上传本地文档(代码对话框方式,也可直接使用网页操作上传)\n",
        "\n",
        "注意每次重新连接Google Colab时,都需重新上传文件."
      ]
    },
    {
      "cell_type": "code",
      "metadata": {
        "id": "gKp0v9AwZETF"
      },
      "source": [
        "#上传本地文档\n",
        "from google.colab import files\n",
        "\n",
        "uploaded = files.upload()"
      ],
      "execution_count": null,
      "outputs": []
    },
    {
      "cell_type": "markdown",
      "metadata": {
        "id": "N5jSYP8jJtNq"
      },
      "source": [
        "第一步,从文件中读取数据,检查是否正确取出各项参数,熟悉pandas dataframe的操作方法."
      ]
    },
    {
      "cell_type": "code",
      "metadata": {
        "id": "MXKik5WMaKee"
      },
      "source": [
        "#读取CSV文档信息,并做检查,熟悉data操作方法\n",
        "import pandas as pd\n",
        "import numpy as np\n",
        "import sklearn\n",
        "from sklearn import linear_model\n",
        "from sklearn.utils import shuffle\n",
        "import matplotlib.pyplot as plt\n",
        "from matplotlib import style\n",
        "import pickle\n",
        "\n",
        "style.use(\"ggplot\")\n",
        "\n",
        "data = pd.read_csv(\"/content/student-mat-comma.csv\", sep = \",\")\n",
        "\n",
        "#print('Watch the data type: ', type(data))\n",
        "#此时data数据类型是pandas.DataFrame\n",
        "#print('Watch the data head: ', '\\n', data.head())\n",
        "#print(data.columns)\n",
        "#print(data.index)"
      ],
      "execution_count": null,
      "outputs": []
    },
    {
      "cell_type": "markdown",
      "metadata": {
        "id": "9EPRp8PRKBMv"
      },
      "source": [
        "由于使用的是线性回归数学模型进行拟合,因此这里切分出来使用的参数都是数据.\n",
        "除了Tim选择的G1, G2, G3, studytime, failures, absences以外,也可以考虑选择:age, Medu, Fedu, traveltime, famrel, freetime, goout, Dalc, Walc, health."
      ]
    },
    {
      "cell_type": "code",
      "metadata": {
        "id": "F3LFHIFnbWVy"
      },
      "source": [
        "#对data进行切分,便于下一步输入模型进行拟合\n",
        "\n",
        "data = data[[\"G1\", \"G2\", \"G3\", \"studytime\", \"failures\", \"absences\", \"freetime\", \"goout\"]]\n",
        "data = shuffle(data)\n",
        "\n",
        "print(data.head())"
      ],
      "execution_count": null,
      "outputs": []
    },
    {
      "cell_type": "markdown",
      "metadata": {
        "id": "v8Yc8Vfv2mNW"
      },
      "source": [
        "对抽取好的数据进行Label,选出需要预测的Label,并用sklearn的train_test_split函数进行数据集划分."
      ]
    },
    {
      "cell_type": "code",
      "metadata": {
        "id": "zfZWNhDdJcHK"
      },
      "source": [
        "predict = \"G3\"\n",
        "\n",
        "x = np.array(data.drop([predict], 1))\n",
        "#print(type(x))\n",
        "#此时x的数据类型是numpy.ndarray\n",
        "\n",
        "y = np.array(data[predict])\n",
        "\n",
        "x_train, x_test, y_train, y_test = sklearn.model_selection.train_test_split(x, y, test_size = 0.1)\n",
        "#print(x_train)\n",
        "\n"
      ],
      "execution_count": null,
      "outputs": []
    },
    {
      "cell_type": "markdown",
      "metadata": {
        "id": "51fk1MMI21a0"
      },
      "source": [
        "利用linear regression模型进行学习和预测.为了找到更好的模型,循环训练20次,将最好的一次记入pickle(对Google Colab不适用,因为pickle文件会被清理掉).\n",
        "\n",
        "*pickle提供了一个简单的持久化功能。可以将对象以文件的形式存放在磁盘上。\n",
        "\n",
        "pickle模块只能在python中使用，python中几乎所有的数据类型（列表，字典，集合，类等）都可以用pickle来序列化，pickle序列化后的数据，可读性差，人一般无法识别。\n",
        "\n",
        "pickle.dump(obj, file[, protocol])\n",
        "　　序列化对象，并将结果数据流写入到文件对象中。参数protocol是序列化模式，默认值为0，表示以文本的形式序列化。protocol的值还可以是1或2，表示以二进制的形式序列化。\n",
        "\n",
        "pickle.load(file)\n",
        "　　反序列化对象。将文件中的数据解析为一个Python对象。"
      ]
    },
    {
      "cell_type": "code",
      "metadata": {
        "id": "efji7gee27Co"
      },
      "source": [
        "best = 0\n",
        "for _ in range(20):\n",
        "  x_train, x_test, y_train, y_test = sklearn.model_selection.train_test_split(x, y, test_size = 0.1)\n",
        "  linear = linear_model.LinearRegression()\n",
        "  \n",
        "  linear.fit(x_train, y_train)\n",
        "  acc = linear.score(x_test, y_test)\n",
        "  print('The test predict accuracy score is: ', acc)\n",
        "  if acc > best:\n",
        "    best = acc\n",
        "    with open(\"studentgrades.pickle\", \"wb\") as f:\n",
        "      pickle.dump(linear, f)\n",
        "\n",
        "pickle_in = open(\"studentgrades.pickle\", \"rb\")\n",
        "linear = pickle.load(pickle_in)\n",
        "#print('Coefficient: \\n', linear.coef_)\n",
        "#print('Intercept: \\n', linear.intercept_)\n",
        "print(\"The highest predict accuracy score is: %f\" % best)\n",
        "\n",
        "predictions = linear.predict(x_test)\n",
        "\n",
        "for i in range(len(predictions)):\n",
        "  print(predictions[i], x_test[i], y_test[i])\n"
      ],
      "execution_count": null,
      "outputs": []
    },
    {
      "cell_type": "markdown",
      "metadata": {
        "id": "2MBk_2WBgXyR"
      },
      "source": [
        "画图"
      ]
    },
    {
      "cell_type": "code",
      "metadata": {
        "id": "S27uYr7_gbSk"
      },
      "source": [
        "plot = \"health\"\n",
        "plt.scatter(data[plot], data[\"G3\"])\n",
        "plt.legend(loc=4)\n",
        "plt.xlabel(plot)\n",
        "plt.ylabel(\"Final Grade\")\n",
        "plt.show()"
      ],
      "execution_count": null,
      "outputs": []
    },
    {
      "cell_type": "markdown",
      "metadata": {
        "id": "eup4xNedlUbk"
      },
      "source": [
        "# 第二课: Tech with Tim - KNN\n",
        "\n",
        "课程内容: 使用UCL的[Car Data数据集](https://archive.ics.uci.edu/ml/datasets/Car+Evaluation),使用KNN(K Nearest Neighbour)模型进行拟合和预测,并检查预测效果."
      ]
    },
    {
      "cell_type": "markdown",
      "metadata": {
        "id": "4WYjN1mgl0JJ"
      },
      "source": [
        "首先进行数据整理."
      ]
    },
    {
      "cell_type": "code",
      "metadata": {
        "id": "uy-EIxpNl4cZ"
      },
      "source": [
        "import sklearn\n",
        "from sklearn.utils import shuffle\n",
        "from sklearn.neighbors import KNeighborsClassifier\n",
        "import pandas as pd\n",
        "import numpy as np\n",
        "from sklearn import linear_model, preprocessing\n",
        "\n",
        "data = pd.read_csv(\"car.data\")\n",
        "#print(data.head())"
      ],
      "execution_count": 2,
      "outputs": []
    },
    {
      "cell_type": "markdown",
      "metadata": {
        "id": "EJGQE9YYpPCV"
      },
      "source": [
        "由于car data文件中有很多文字性信息,因此利用preprocessing这个方法将文字信息转换为整数."
      ]
    },
    {
      "cell_type": "code",
      "metadata": {
        "id": "qNgxXoZZtPCt"
      },
      "source": [
        "le = preprocessing.LabelEncoder() # preprocessing.LabelEncoder是一个对象\n",
        "\n",
        "buying = le.fit_transform(list(data[\"buying\"])) #le还是一个空对象，将buying这一列转换为list，再赋给le对象进行转换\n",
        "maint = le.fit_transform(list(data[\"maint\"]))\n",
        "door = le.fit_transform(list(data[\"door\"]))\n",
        "persons = le.fit_transform(list(data[\"persons\"]))\n",
        "lug_boot = le.fit_transform(list(data[\"lug_boot\"]))\n",
        "safety = le.fit_transform(list(data[\"safety\"]))\n",
        "cls = le.fit_transform(list(data[\"class\"]))\n",
        "\n",
        "predict = \"class\"\n",
        "\n",
        "X = list(zip(buying, maint, door, persons, lug_boot, safety))\n",
        "y = list(cls)\n",
        "\n",
        "x_train, x_test, y_train, y_test = sklearn.model_selection.train_test_split(X, y, test_size = 0.1)\n",
        "\n",
        "print(x_train, y_test)"
      ],
      "execution_count": null,
      "outputs": []
    }
  ]
}