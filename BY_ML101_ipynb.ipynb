{
  "nbformat": 4,
  "nbformat_minor": 0,
  "metadata": {
    "colab": {
      "name": "“BY-ML101.ipynb”的副本",
      "provenance": [],
      "collapsed_sections": [],
      "authorship_tag": "ABX9TyN79RckkV+jgo4jr+T1UTZD",
      "include_colab_link": true
    },
    "kernelspec": {
      "name": "python3",
      "display_name": "Python 3"
    },
    "language_info": {
      "name": "python"
    }
  },
  "cells": [
    {
      "cell_type": "markdown",
      "metadata": {
        "id": "view-in-github",
        "colab_type": "text"
      },
      "source": [
        "<a href=\"https://colab.research.google.com/github/lpscby/MachineLearning101/blob/lpscby-patch-1/BY_ML101_ipynb.ipynb\" target=\"_parent\"><img src=\"https://colab.research.google.com/assets/colab-badge.svg\" alt=\"Open In Colab\"/></a>"
      ]
    },
    {
      "cell_type": "markdown",
      "metadata": {
        "id": "uGx_9Fp3ZO8U"
      },
      "source": [
        "# 第一课: Tech with Tim - Linear Regression\n",
        "课程内容:使用UCL的[Student Performance数据集](https://archive.ics.uci.edu/ml/datasets/Student+Performance),使用线性回归模型进行拟合和分数预测,并检查预测效果."
      ]
    },
    {
      "cell_type": "markdown",
      "metadata": {
        "id": "XxUKKBcxJdTi"
      },
      "source": [
        "首先,上传本地文档(代码对话框方式,也可直接使用网页操作上传)\n",
        "\n",
        "注意每次重新连接Google Colab时,都需重新上传文件."
      ]
    },
    {
      "cell_type": "code",
      "metadata": {
        "id": "gKp0v9AwZETF"
      },
      "source": [
        "#上传本地文档\n",
        "from google.colab import files\n",
        "\n",
        "uploaded = files.upload()"
      ],
      "execution_count": null,
      "outputs": []
    },
    {
      "cell_type": "markdown",
      "metadata": {
        "id": "N5jSYP8jJtNq"
      },
      "source": [
        "第一步,从文件中读取数据,检查是否正确取出各项参数,熟悉pandas dataframe的操作方法."
      ]
    },
    {
      "cell_type": "code",
      "metadata": {
        "id": "MXKik5WMaKee"
      },
      "source": [
        "#读取CSV文档信息,并做检查,熟悉data操作方法\n",
        "import pandas as pd\n",
        "import numpy as np\n",
        "import sklearn\n",
        "from sklearn import linear_model\n",
        "from sklearn.utils import shuffle\n",
        "\n",
        "data = pd.read_csv(\"/content/student-mat-comma.csv\", sep = \",\")\n",
        "\n",
        "#print('Watch the data type: ', type(data))\n",
        "#此时data数据类型是pandas.DataFrame\n",
        "#print('Watch the data head: ', '\\n', data.head())\n",
        "#print(data.columns)\n",
        "#print(data.index)"
      ],
      "execution_count": 1,
      "outputs": []
    },
    {
      "cell_type": "markdown",
      "metadata": {
        "id": "9EPRp8PRKBMv"
      },
      "source": [
        "由于使用的是线性回归数学模型进行拟合,因此这里切分出来使用的参数都是数据.\n",
        "除了Tim选择的G1, G2, G3, studytime, failures, absences以外,也可以考虑选择:age, Medu, Fedu, traveltime, famrel, freetime, goout, Dalc, Walc, health."
      ]
    },
    {
      "cell_type": "code",
      "metadata": {
        "id": "F3LFHIFnbWVy",
        "colab": {
          "base_uri": "https://localhost:8080/"
        },
        "outputId": "1bdeea99-926d-4d81-cbd7-a618dcd16278"
      },
      "source": [
        "#对data进行切分,便于下一步输入模型进行拟合\n",
        "\n",
        "data = data[[\"G1\", \"G2\", \"G3\", \"studytime\", \"failures\", \"absences\"]]\n",
        "\n",
        "print(data.head())"
      ],
      "execution_count": 2,
      "outputs": [
        {
          "output_type": "stream",
          "text": [
            "   G1  G2  G3  studytime  failures  absences\n",
            "0   5   6   6          2         0         6\n",
            "1   5   5   6          2         0         4\n",
            "2   7   8  10          2         3        10\n",
            "3  15  14  15          3         0         2\n",
            "4   6  10  10          2         0         4\n"
          ],
          "name": "stdout"
        }
      ]
    },
    {
      "cell_type": "markdown",
      "metadata": {
        "id": "v8Yc8Vfv2mNW"
      },
      "source": [
        "对抽取好的数据进行Label,选出需要预测的Label,并用sklearn的train_test_split函数进行数据集划分."
      ]
    },
    {
      "cell_type": "code",
      "metadata": {
        "id": "zfZWNhDdJcHK"
      },
      "source": [
        "predict = \"G3\"\n",
        "\n",
        "x = np.array(data.drop([predict], 1))\n",
        "#print(type(x))\n",
        "#此时x的数据类型是numpy.ndarray\n",
        "\n",
        "y = np.array(data[predict])\n",
        "\n",
        "x_train, x_test, y_train, y_test = sklearn.model_selection.train_test_split(x, y, test_size = 0.1)\n",
        "print(x_train)\n",
        "\n"
      ],
      "execution_count": null,
      "outputs": []
    },
    {
      "cell_type": "markdown",
      "metadata": {
        "id": "51fk1MMI21a0"
      },
      "source": [
        "利用linear regression模型进行学习和预测"
      ]
    },
    {
      "cell_type": "code",
      "metadata": {
        "colab": {
          "base_uri": "https://localhost:8080/"
        },
        "id": "efji7gee27Co",
        "outputId": "66a918eb-ed5e-4c4f-bbb4-585a233e06c2"
      },
      "source": [
        "linear = linear_model.LinearRegression()\n",
        "\n",
        "linear.fit(x_train, y_train)\n",
        "acc = linear.score(x_test, y_test)\n",
        "print(acc)"
      ],
      "execution_count": 4,
      "outputs": [
        {
          "output_type": "stream",
          "text": [
            "0.7760285056717752\n"
          ],
          "name": "stdout"
        }
      ]
    }
  ]
}